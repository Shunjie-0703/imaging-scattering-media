{
 "cells": [
  {
   "cell_type": "code",
   "execution_count": 1,
   "metadata": {},
   "outputs": [
    {
     "name": "stdout",
     "output_type": "stream",
     "text": [
      "Requirement already satisfied: scipy in /Library/Frameworks/Python.framework/Versions/3.7/lib/python3.7/site-packages (1.6.3)\n",
      "Requirement already satisfied: numpy<1.23.0,>=1.16.5 in /Library/Frameworks/Python.framework/Versions/3.7/lib/python3.7/site-packages (from scipy) (1.20.2)\n",
      "\u001b[33mWARNING: You are using pip version 22.0.3; however, version 22.0.4 is available.\n",
      "You should consider upgrading via the '/Library/Frameworks/Python.framework/Versions/3.7/bin/python3.7 -m pip install --upgrade pip' command.\u001b[0m\u001b[33m\n",
      "\u001b[0mNote: you may need to restart the kernel to use updated packages.\n"
     ]
    }
   ],
   "source": [
    "\n",
    "pip install scipy"
   ]
  },
  {
   "cell_type": "code",
   "execution_count": 1,
   "metadata": {},
   "outputs": [],
   "source": [
    "import numpy as np\n",
    "import skimage.transform as skt\n",
    "import matplotlib.pyplot as plt\n",
    "import scipy.io as sio\n",
    "import os\n",
    "import skimage.transform as skt\n",
    "import my_alg\n",
    "import tensorflow as tf\n",
    "import h5py"
   ]
  },
  {
   "cell_type": "code",
   "execution_count": 17,
   "metadata": {
    "tags": []
   },
   "outputs": [
    {
     "ename": "SyntaxError",
     "evalue": "invalid syntax (1562639784.py, line 13)",
     "output_type": "error",
     "traceback": [
      "\u001b[0;36m  File \u001b[0;32m\"/var/folders/17/9dqrmxfd5vsdw_90308c3ybw0000gn/T/ipykernel_52901/1562639784.py\"\u001b[0;36m, line \u001b[0;32m13\u001b[0m\n\u001b[0;31m    for i = 0 : 4\u001b[0m\n\u001b[0m          ^\u001b[0m\n\u001b[0;31mSyntaxError\u001b[0m\u001b[0;31m:\u001b[0m invalid syntax\n"
     ]
    }
   ],
   "source": [
    "#set right directory on you computer\n",
    "ref_dir = '/Users/shunjiezhang/Desktop/class_Unet/new'\n",
    "ccm_dir = '/Users/shunjiezhang/Desktop/class_Unet/'  \n",
    "file_lst = os.listdir( ccm_dir) \n",
    "ref_imgs = []\n",
    "ref_imgs1 = []\n",
    "ccm_imgs = []\n",
    "ccm_imgs1 = []\n",
    "reshape_shape = [128,128] #[128,128,3]\n",
    "\n",
    "z = 0;\n",
    "\n",
    "for i = 0 : 4\n",
    "     folder_name = sprintf('/Users/shunjiezhang/Desktop/class_Unet/',i);\n",
    "        a = dir(fullfile(folder_name, '*.jpg'));\n",
    "        for j = 0:(length(a)-1)\n",
    "            im = imread(sprintf(append(folder_name, '/-%4d.jpg'),j));\n",
    "            im = im2gray(im);\n",
    "            save(sprintf('%01d.mat',z),'im');\n",
    "            z = z + 1;\n",
    " \n",
    "    end\n",
    "end\n",
    "\n",
    "im = imread('0.png');\n",
    "im = im2gray(im);\n",
    "save('cam_spiral_gray.mat');\n",
    "\n",
    "for ii in range(1):\n",
    "    for i in range( len( file_lst)):\n",
    "        i = i\n",
    "        ref_img_path1 = os.path.join( ccm_dir, '%i.jpg' % i)\n",
    "        ref_mat1 = sio.loadmat ( ref_img_path1, verify_compressed_data_integrity=False)\n",
    "        ref_img1 = ref_img_path1['imgHDR']\n",
    "        m = np.max( ref_img1)\n",
    "        if m>0:\n",
    "            ref_img_path = os.path.join( ref_dir, '%i.jpg' % i)\n",
    "           \n",
    "            \n",
    "            ref_img = ref_img - np.min( ref_img)\n",
    "            ref_img = ref_img / np.max( ref_img)\n",
    "            ref_img = skt.resize( ref_img1, reshape_shape)\n",
    "            ref_imgs.append( ref_img)\n",
    "\n",
    "            ccm_img_path = os.path.join( ccm_dir, '%i.jpg'%i)\n",
    "           \n",
    "           \n",
    "            ccm_img = ccm_img - np.min( ccm_img)\n",
    "            ccm_img = ccm_img / np.max( ccm_img)\n",
    "            ccm_img = skt.resize( ccm_img, reshape_shape)\n",
    "            ccm_imgs.append( ccm_img)\n",
    "\n",
    "        if i % 100 == 0:\n",
    "            print( i)\n",
    "    \n",
    "ref_imgs = np.array( ref_imgs)\n",
    "ccm_imgs = np.array( ccm_imgs)\n",
    "\n",
    "np.save( '/Users/shunjiezhang/Desktop/class_Unet/new2',ccm_imgs)\n",
    "np.save( '/Users/shunjiezhang/Desktop/class_Unet/new3',ref_imgs)"
   ]
  },
  {
   "cell_type": "code",
   "execution_count": null,
   "metadata": {},
   "outputs": [],
   "source": []
  },
  {
   "cell_type": "code",
   "execution_count": null,
   "metadata": {},
   "outputs": [],
   "source": []
  }
 ],
 "metadata": {
  "kernelspec": {
   "display_name": "Python 3 (ipykernel)",
   "language": "python",
   "name": "python3"
  },
  "language_info": {
   "codemirror_mode": {
    "name": "ipython",
    "version": 3
   },
   "file_extension": ".py",
   "mimetype": "text/x-python",
   "name": "python",
   "nbconvert_exporter": "python",
   "pygments_lexer": "ipython3",
   "version": "3.7.6"
  }
 },
 "nbformat": 4,
 "nbformat_minor": 4
}
